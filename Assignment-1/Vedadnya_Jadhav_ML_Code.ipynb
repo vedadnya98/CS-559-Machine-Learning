{
 "cells": [
  {
   "cell_type": "code",
   "execution_count": 1,
   "metadata": {},
   "outputs": [],
   "source": [
    "#Libraries\n",
    "import matplotlib.pyplot as plt\n",
    "import numpy as np\n",
    "import pandas as pd\n",
    "from sklearn.utils import shuffle"
   ]
  },
  {
   "cell_type": "code",
   "execution_count": 2,
   "metadata": {},
   "outputs": [],
   "source": [
    "def sigmoid(features_train,theta):\n",
    "    sig = 1/(1 + np.exp(-hypothesis(features_train,theta)))\n",
    "    return sig"
   ]
  },
  {
   "cell_type": "code",
   "execution_count": 3,
   "metadata": {},
   "outputs": [],
   "source": [
    "def hypothesis(features_train, theta):\n",
    "    z = np.dot(theta,features_train.T)\n",
    "    return z"
   ]
  },
  {
   "cell_type": "code",
   "execution_count": 4,
   "metadata": {},
   "outputs": [],
   "source": [
    "def predict(x, y, theta):\n",
    "    predict = sigmoid(x,theta)\n",
    "    predictnext = predict\n",
    "    for i in range(len(predict[0])):\n",
    "        if(predict[0][i]>=0.5):\n",
    "            predict[0][i] = 1\n",
    "        else:\n",
    "            predict[0][i] = 0\n",
    "    print(\"Predicted Values\")\n",
    "    print(predict.astype(int))\n",
    "    return predictnext"
   ]
  },
  {
   "cell_type": "code",
   "execution_count": 5,
   "metadata": {},
   "outputs": [],
   "source": [
    "def gradient_ascent(X,theta,y):\n",
    "    grad = np.dot(X.T, y - (sigmoid(X,theta).T))\n",
    "    return grad"
   ]
  },
  {
   "cell_type": "code",
   "execution_count": 6,
   "metadata": {},
   "outputs": [],
   "source": [
    "def update_weight_mle(weight, learning_rate, gradient):\n",
    "    updated = np.multiply(gradient,learning_rate)\n",
    "    latest = np.add(weight,updated.T)\n",
    "    return latest"
   ]
  },
  {
   "cell_type": "code",
   "execution_count": 7,
   "metadata": {},
   "outputs": [],
   "source": [
    "def plot_output(X,y):\n",
    "    X_new = X.iloc[:, 1:]\n",
    "    z = X_new[y == 0]\n",
    "    z2 = X_new[y ==1]\n",
    "    plt.scatter(z.iloc[:, 0], z.iloc[:, 1], color='r', label='0 = non-virginica')\n",
    "    plt.scatter(z2.iloc[:, 0], z2.iloc[:, 1], color='b', label='1 = virginica')\n",
    "    plt.legend()\n",
    "    plt.xlabel('sepal length', fontsize='13')\n",
    "    plt.ylabel('sepal width', fontsize='13')\n",
    "    plt.title('Logistic Regression output for the test data-set', fontsize='13')\n",
    "    plt.show()"
   ]
  },
  {
   "cell_type": "code",
   "execution_count": 8,
   "metadata": {},
   "outputs": [],
   "source": [
    "def log_likelihood(x, y, weights):\n",
    "    ll = np.sum(np.dot(y,hypothesis(x,weights)) - np.log(1 + np.exp(hypothesis(x,weights))))\n",
    "    return ll"
   ]
  },
  {
   "cell_type": "code",
   "execution_count": 9,
   "metadata": {},
   "outputs": [],
   "source": [
    "iris = pd.read_csv(r'/Users/vedadnya_98/Desktop/HomeWork Zips/Machine Learning/Assignment 1/iris.csv')\n",
    "iris = shuffle(iris)"
   ]
  },
  {
   "cell_type": "code",
   "execution_count": 10,
   "metadata": {},
   "outputs": [
    {
     "data": {
      "image/png": "[encoded data removed]",
      "text/plain": [
       "<Figure size 432x288 with 1 Axes>"
      ]
     },
     "metadata": {
      "needs_background": "light"
     },
     "output_type": "display_data"
    }
   ],
   "source": [
    "# Plot the relation of each feature with each species\n",
    "\n",
    "plt.xlabel('Features')\n",
    "plt.ylabel('Species')\n",
    "\n",
    "pltX = iris.loc[:, 'sepal_length']\n",
    "pltY = iris.loc[:,'species']\n",
    "plt.scatter(pltX, pltY, color='blue', label='sepal_length')\n",
    "\n",
    "pltX = iris.loc[:, 'sepal_width']\n",
    "pltY = iris.loc[:,'species']\n",
    "plt.scatter(pltX, pltY, color='green', label='sepal_width')\n",
    "\n",
    "pltX = iris.loc[:, 'petal_length']\n",
    "pltY = iris.loc[:,'species']\n",
    "plt.scatter(pltX, pltY, color='red', label='petal_length')\n",
    "\n",
    "pltX = iris.loc[:, 'petal_width']\n",
    "pltY = iris.loc[:,'species']\n",
    "plt.scatter(pltX, pltY, color='black', label='petal_width')\n",
    "\n",
    "plt.legend(loc=4, prop={'size':8})\n",
    "plt.show()"
   ]
  },
  {
   "cell_type": "code",
   "execution_count": 11,
   "metadata": {},
   "outputs": [
    {
     "name": "stdout",
     "output_type": "stream",
     "text": [
      "<class 'pandas.core.frame.DataFrame'>\n",
      "Int64Index: 150 entries, 17 to 91\n",
      "Data columns (total 5 columns):\n",
      "sepal_length    150 non-null float64\n",
      "sepal_width     150 non-null float64\n",
      "petal_length    150 non-null float64\n",
      "petal_width     150 non-null float64\n",
      "species         150 non-null object\n",
      "dtypes: float64(4), object(1)\n",
      "memory usage: 7.0+ KB\n"
     ]
    }
   ],
   "source": [
    "iris.info()\n",
    "mapping = {\n",
    "    'Iris-virginica' : 1,\n",
    "    'Iris-versicolor': 0,\n",
    "    'Iris-setosa'    : 0\n",
    "}\n",
    "rows, col = iris.shape\n",
    "bias = np.ones(len(iris))\n",
    "X = iris.loc[:,['sepal_length','sepal_width']]\n",
    "X.insert(0,'bias',bias)\n",
    "lables = iris.species.replace(mapping).values.reshape(rows,1)"
   ]
  },
  {
   "cell_type": "code",
   "execution_count": 12,
   "metadata": {},
   "outputs": [],
   "source": [
    "feature_train, feature_test = X[0:99], X[100:]\n",
    "lables_train, lables_test = lables[0:99], lables[100:]"
   ]
  },
  {
   "cell_type": "code",
   "execution_count": 13,
   "metadata": {},
   "outputs": [
    {
     "name": "stdout",
     "output_type": "stream",
     "text": [
      "[-16654.44511599 -12495.5862611  -39151.7491183  ... -13704.61013121\n",
      " -15990.82154035 -13704.61013121]\n",
      "[[-25.49877134   3.73197456   0.56491633]]\n"
     ]
    }
   ],
   "source": [
    "theta = np.zeros(3,dtype='int')\n",
    "theta = theta.reshape(1,3)\n",
    "learning_rate = 0.01\n",
    "iters = 50000\n",
    "likelihood = np.zeros(iters)\n",
    "\n",
    "for i in range(iters):\n",
    "    gradient = gradient_ascent(feature_test,theta,lables_test)\n",
    "    theta = update_weight_mle(theta, learning_rate, gradient)\n",
    "    likelihood[i] = log_likelihood(feature_train, lables_train, theta)\n",
    "print(likelihood)\n",
    "print(theta)"
   ]
  },
  {
   "cell_type": "code",
   "execution_count": 14,
   "metadata": {},
   "outputs": [
    {
     "name": "stdout",
     "output_type": "stream",
     "text": [
      "Predicted Values\n",
      "[[0 0 0 1 0 0 0 0 0 0 0 0 1 0 0 0 0 1 0 1 1 0 0 0 1 0 0 0 0 0 0 1 0 0 1 0\n",
      "  0 0 0 1 1 0 0 0 1 1 1 0 0 0 0 0 1 0 0 0 0 1 0 0 0 0 0 0 0 0 0 0 0 0 1 0\n",
      "  0 0 0 1 1 0 0 1 0 0 1 0 0 0 1 0 0 1 0 0 1 0 0 0 1 0 0]]\n"
     ]
    }
   ],
   "source": [
    "predictednext = predict(feature_train, lables_train, theta)"
   ]
  },
  {
   "cell_type": "code",
   "execution_count": 15,
   "metadata": {},
   "outputs": [
    {
     "data": {
      "image/png": "[encoded data removed]",
      "text/plain": [
       "<Figure size 432x288 with 1 Axes>"
      ]
     },
     "metadata": {
      "needs_background": "light"
     },
     "output_type": "display_data"
    }
   ],
   "source": [
    "plot_output(feature_test, lables_test)"
   ]
  },
  {
   "cell_type": "code",
   "execution_count": null,
   "metadata": {},
   "outputs": [],
   "source": []
  }
 ],
 "metadata": {
  "kernelspec": {
   "display_name": "Python 3",
   "language": "python",
   "name": "python3"
  },
  "language_info": {
   "codemirror_mode": {
    "name": "ipython",
    "version": 3
   },
   "file_extension": ".py",
   "mimetype": "text/x-python",
   "name": "python",
   "nbconvert_exporter": "python",
   "pygments_lexer": "ipython3",
   "version": "3.7.3"
  }
 },
 "nbformat": 4,
 "nbformat_minor": 2
}
